{
 "cells": [
  {
   "cell_type": "code",
   "execution_count": 1,
   "id": "light-customer",
   "metadata": {},
   "outputs": [],
   "source": [
    "import numpy as np\n",
    "import pandas as pd\n",
    "\n",
    "import matplotlib as mpl\n",
    "import matplotlib.pyplot as plt\n",
    "import seaborn as sns\n",
    "plt.rcParams['figure.figsize'] = [12, 8]\n",
    "plt.rcParams['figure.dpi'] = 75\n",
    "plt.rcParams['font.size'] = 12\n",
    "sns.set_theme(style=\"whitegrid\")\n",
    "sns.set_theme(color_codes=True)\n",
    "sns.set_context(\"poster\")\n",
    "\n",
    "import statsmodels.api as sm\n",
    "import statsmodels.stats.api as sms\n",
    "import statsmodels.formula.api as smf\n",
    "import statsmodels.graphics.api as smg\n",
    "from statsmodels.miscmodels.ordinal_model import OrderedModel\n",
    "\n",
    "import rpy2.rinterface\n",
    "import rpy2.robjects as robjects\n",
    "%load_ext rpy2.ipython"
   ]
  },
  {
   "cell_type": "code",
   "execution_count": 21,
   "id": "adverse-gravity",
   "metadata": {},
   "outputs": [],
   "source": [
    "%%R -o uk\n",
    "load('seminar2 (2).RData')"
   ]
  },
  {
   "cell_type": "markdown",
   "id": "endless-tender",
   "metadata": {},
   "source": [
    "Use data frame ‘uk’ from ‘seminar2 (2).RData’.  \n",
    "\n",
    "The variables are:\n",
    "- **polintr** -  how interested in politics; 1 - Not at all interested, 4 - Very interested;\n",
    "- **age** – age of the respondent\n",
    "- **sex** – gender of the respondent\n",
    "- **edu** – age when completed education\n",
    "- **income1** – income group\n",
    "\n",
    "Fulfil the following tasks:\n",
    "1. Predict **interest in politics** by *age*, *gender*, *education* and *income group*.\n",
    "2. Interpret the coefficients.\n",
    "3. Tell if the model fits data well.\n",
    "4. Visualize the link between interest in politics and age when respondent completed education."
   ]
  },
  {
   "cell_type": "code",
   "execution_count": 22,
   "id": "asian-hunger",
   "metadata": {},
   "outputs": [
    {
     "name": "stdout",
     "output_type": "stream",
     "text": [
      "<class 'pandas.core.frame.DataFrame'>\n",
      "Index: 2422 entries, 1 to 2422\n",
      "Data columns (total 10 columns):\n",
      " #   Column   Non-Null Count  Dtype   \n",
      "---  ------   --------------  -----   \n",
      " 0   polintr  2420 non-null   category\n",
      " 1   vote     1559 non-null   category\n",
      " 2   age      2413 non-null   float64 \n",
      " 3   sex      2422 non-null   category\n",
      " 4   edu      2395 non-null   float64 \n",
      " 5   income   1906 non-null   category\n",
      " 6   incdiff  2344 non-null   category\n",
      " 7   health   2416 non-null   category\n",
      " 8   prvote   1559 non-null   category\n",
      " 9   income1  1906 non-null   float64 \n",
      "dtypes: category(7), float64(3)\n",
      "memory usage: 93.9+ KB\n"
     ]
    }
   ],
   "source": [
    "uk.info()"
   ]
  },
  {
   "cell_type": "code",
   "execution_count": 23,
   "id": "stainless-appendix",
   "metadata": {},
   "outputs": [],
   "source": [
    "uk = uk[['polintr', 'age', 'sex', 'edu', 'income1']]\n",
    "uk = uk.dropna()"
   ]
  },
  {
   "cell_type": "code",
   "execution_count": 24,
   "id": "agreed-figure",
   "metadata": {},
   "outputs": [],
   "source": [
    "uk.polintr = uk.polintr.values.set_categories(['Not at all interested', 'Hardly interested', 'Quite interested', 'Very interested'], ordered=True)"
   ]
  },
  {
   "cell_type": "markdown",
   "id": "romantic-theorem",
   "metadata": {},
   "source": [
    "## 1. Predict **interest in politics** by *age*, *gender*, *education* and *income group*."
   ]
  },
  {
   "cell_type": "code",
   "execution_count": 30,
   "id": "alien-spoke",
   "metadata": {},
   "outputs": [
    {
     "name": "stdout",
     "output_type": "stream",
     "text": [
      "<class 'pandas.core.frame.DataFrame'>\n",
      "Index: 1892 entries, 1 to 2422\n",
      "Data columns (total 5 columns):\n",
      " #   Column   Non-Null Count  Dtype   \n",
      "---  ------   --------------  -----   \n",
      " 0   polintr  1892 non-null   category\n",
      " 1   age      1892 non-null   float64 \n",
      " 2   sex      1892 non-null   category\n",
      " 3   edu      1892 non-null   float64 \n",
      " 4   income1  1892 non-null   float64 \n",
      "dtypes: category(2), float64(3)\n",
      "memory usage: 127.7+ KB\n"
     ]
    }
   ],
   "source": [
    "uk.info()"
   ]
  },
  {
   "cell_type": "code",
   "execution_count": 31,
   "id": "narrow-botswana",
   "metadata": {},
   "outputs": [
    {
     "ename": "ValueError",
     "evalue": "Pandas data cast to numpy dtype of object. Check input data with np.asarray(data).",
     "output_type": "error",
     "traceback": [
      "\u001b[0;31m---------------------------------------------------------------------------\u001b[0m",
      "\u001b[0;31mValueError\u001b[0m                                Traceback (most recent call last)",
      "\u001b[0;32m<ipython-input-31-b787effb2b0e>\u001b[0m in \u001b[0;36m<module>\u001b[0;34m\u001b[0m\n\u001b[1;32m      1\u001b[0m \u001b[0;31m# probit ordinal regression\u001b[0m\u001b[0;34m\u001b[0m\u001b[0;34m\u001b[0m\u001b[0;34m\u001b[0m\u001b[0m\n\u001b[0;32m----> 2\u001b[0;31m mod_prob = OrderedModel(np.asarray(uk['polintr']),\n\u001b[0m\u001b[1;32m      3\u001b[0m                         \u001b[0muk\u001b[0m\u001b[0;34m[\u001b[0m\u001b[0;34m[\u001b[0m\u001b[0;34m'age'\u001b[0m\u001b[0;34m,\u001b[0m \u001b[0;34m'sex'\u001b[0m\u001b[0;34m,\u001b[0m \u001b[0;34m'edu'\u001b[0m\u001b[0;34m,\u001b[0m \u001b[0;34m'income1'\u001b[0m\u001b[0;34m]\u001b[0m\u001b[0;34m]\u001b[0m\u001b[0;34m,\u001b[0m\u001b[0;34m\u001b[0m\u001b[0;34m\u001b[0m\u001b[0m\n\u001b[1;32m      4\u001b[0m                         distr='probit')\n\u001b[1;32m      5\u001b[0m \u001b[0;34m\u001b[0m\u001b[0m\n",
      "\u001b[0;32m~/Documents/uni/da2021/statsmodels/statsmodels/miscmodels/ordinal_model.py\u001b[0m in \u001b[0;36m__init__\u001b[0;34m(self, endog, exog, offset, distr, **kwds)\u001b[0m\n\u001b[1;32m    124\u001b[0m         \u001b[0mendog\u001b[0m\u001b[0;34m,\u001b[0m \u001b[0mlabels\u001b[0m\u001b[0;34m,\u001b[0m \u001b[0mis_pandas\u001b[0m \u001b[0;34m=\u001b[0m \u001b[0mself\u001b[0m\u001b[0;34m.\u001b[0m\u001b[0m_check_inputs\u001b[0m\u001b[0;34m(\u001b[0m\u001b[0mendog\u001b[0m\u001b[0;34m,\u001b[0m \u001b[0mexog\u001b[0m\u001b[0;34m)\u001b[0m\u001b[0;34m\u001b[0m\u001b[0;34m\u001b[0m\u001b[0m\n\u001b[1;32m    125\u001b[0m \u001b[0;34m\u001b[0m\u001b[0m\n\u001b[0;32m--> 126\u001b[0;31m         \u001b[0msuper\u001b[0m\u001b[0;34m(\u001b[0m\u001b[0mOrderedModel\u001b[0m\u001b[0;34m,\u001b[0m \u001b[0mself\u001b[0m\u001b[0;34m)\u001b[0m\u001b[0;34m.\u001b[0m\u001b[0m__init__\u001b[0m\u001b[0;34m(\u001b[0m\u001b[0mendog\u001b[0m\u001b[0;34m,\u001b[0m \u001b[0mexog\u001b[0m\u001b[0;34m,\u001b[0m \u001b[0;34m**\u001b[0m\u001b[0mkwds\u001b[0m\u001b[0;34m)\u001b[0m\u001b[0;34m\u001b[0m\u001b[0;34m\u001b[0m\u001b[0m\n\u001b[0m\u001b[1;32m    127\u001b[0m         \u001b[0mk_levels\u001b[0m \u001b[0;34m=\u001b[0m \u001b[0;32mNone\u001b[0m  \u001b[0;31m# initialize\u001b[0m\u001b[0;34m\u001b[0m\u001b[0;34m\u001b[0m\u001b[0m\n\u001b[1;32m    128\u001b[0m         \u001b[0;32mif\u001b[0m \u001b[0;32mnot\u001b[0m \u001b[0mis_pandas\u001b[0m\u001b[0;34m:\u001b[0m\u001b[0;34m\u001b[0m\u001b[0;34m\u001b[0m\u001b[0m\n",
      "\u001b[0;32m~/Documents/uni/da2021/statsmodels/statsmodels/base/model.py\u001b[0m in \u001b[0;36m__init__\u001b[0;34m(self, endog, exog, loglike, score, hessian, missing, extra_params_names, **kwds)\u001b[0m\n\u001b[1;32m    798\u001b[0m         \u001b[0;31m# self.df_model = 9999\u001b[0m\u001b[0;34m\u001b[0m\u001b[0;34m\u001b[0m\u001b[0;34m\u001b[0m\u001b[0m\n\u001b[1;32m    799\u001b[0m         \u001b[0;31m# somewhere: CacheWriteWarning: 'df_model' cannot be overwritten\u001b[0m\u001b[0;34m\u001b[0m\u001b[0;34m\u001b[0m\u001b[0;34m\u001b[0m\u001b[0m\n\u001b[0;32m--> 800\u001b[0;31m         super(GenericLikelihoodModel, self).__init__(endog, exog,\n\u001b[0m\u001b[1;32m    801\u001b[0m                                                      \u001b[0mmissing\u001b[0m\u001b[0;34m=\u001b[0m\u001b[0mmissing\u001b[0m\u001b[0;34m,\u001b[0m\u001b[0;34m\u001b[0m\u001b[0;34m\u001b[0m\u001b[0m\n\u001b[1;32m    802\u001b[0m                                                      hasconst=hasconst)\n",
      "\u001b[0;32m~/Documents/uni/da2021/statsmodels/statsmodels/base/model.py\u001b[0m in \u001b[0;36m__init__\u001b[0;34m(self, endog, exog, **kwargs)\u001b[0m\n\u001b[1;32m    235\u001b[0m \u001b[0;34m\u001b[0m\u001b[0m\n\u001b[1;32m    236\u001b[0m     \u001b[0;32mdef\u001b[0m \u001b[0m__init__\u001b[0m\u001b[0;34m(\u001b[0m\u001b[0mself\u001b[0m\u001b[0;34m,\u001b[0m \u001b[0mendog\u001b[0m\u001b[0;34m,\u001b[0m \u001b[0mexog\u001b[0m\u001b[0;34m=\u001b[0m\u001b[0;32mNone\u001b[0m\u001b[0;34m,\u001b[0m \u001b[0;34m**\u001b[0m\u001b[0mkwargs\u001b[0m\u001b[0;34m)\u001b[0m\u001b[0;34m:\u001b[0m\u001b[0;34m\u001b[0m\u001b[0;34m\u001b[0m\u001b[0m\n\u001b[0;32m--> 237\u001b[0;31m         \u001b[0msuper\u001b[0m\u001b[0;34m(\u001b[0m\u001b[0mLikelihoodModel\u001b[0m\u001b[0;34m,\u001b[0m \u001b[0mself\u001b[0m\u001b[0;34m)\u001b[0m\u001b[0;34m.\u001b[0m\u001b[0m__init__\u001b[0m\u001b[0;34m(\u001b[0m\u001b[0mendog\u001b[0m\u001b[0;34m,\u001b[0m \u001b[0mexog\u001b[0m\u001b[0;34m,\u001b[0m \u001b[0;34m**\u001b[0m\u001b[0mkwargs\u001b[0m\u001b[0;34m)\u001b[0m\u001b[0;34m\u001b[0m\u001b[0;34m\u001b[0m\u001b[0m\n\u001b[0m\u001b[1;32m    238\u001b[0m         \u001b[0mself\u001b[0m\u001b[0;34m.\u001b[0m\u001b[0minitialize\u001b[0m\u001b[0;34m(\u001b[0m\u001b[0;34m)\u001b[0m\u001b[0;34m\u001b[0m\u001b[0;34m\u001b[0m\u001b[0m\n\u001b[1;32m    239\u001b[0m \u001b[0;34m\u001b[0m\u001b[0m\n",
      "\u001b[0;32m~/Documents/uni/da2021/statsmodels/statsmodels/base/model.py\u001b[0m in \u001b[0;36m__init__\u001b[0;34m(self, endog, exog, **kwargs)\u001b[0m\n\u001b[1;32m     75\u001b[0m         \u001b[0mmissing\u001b[0m \u001b[0;34m=\u001b[0m \u001b[0mkwargs\u001b[0m\u001b[0;34m.\u001b[0m\u001b[0mpop\u001b[0m\u001b[0;34m(\u001b[0m\u001b[0;34m'missing'\u001b[0m\u001b[0;34m,\u001b[0m \u001b[0;34m'none'\u001b[0m\u001b[0;34m)\u001b[0m\u001b[0;34m\u001b[0m\u001b[0;34m\u001b[0m\u001b[0m\n\u001b[1;32m     76\u001b[0m         \u001b[0mhasconst\u001b[0m \u001b[0;34m=\u001b[0m \u001b[0mkwargs\u001b[0m\u001b[0;34m.\u001b[0m\u001b[0mpop\u001b[0m\u001b[0;34m(\u001b[0m\u001b[0;34m'hasconst'\u001b[0m\u001b[0;34m,\u001b[0m \u001b[0;32mNone\u001b[0m\u001b[0;34m)\u001b[0m\u001b[0;34m\u001b[0m\u001b[0;34m\u001b[0m\u001b[0m\n\u001b[0;32m---> 77\u001b[0;31m         self.data = self._handle_data(endog, exog, missing, hasconst,\n\u001b[0m\u001b[1;32m     78\u001b[0m                                       **kwargs)\n\u001b[1;32m     79\u001b[0m         \u001b[0mself\u001b[0m\u001b[0;34m.\u001b[0m\u001b[0mk_constant\u001b[0m \u001b[0;34m=\u001b[0m \u001b[0mself\u001b[0m\u001b[0;34m.\u001b[0m\u001b[0mdata\u001b[0m\u001b[0;34m.\u001b[0m\u001b[0mk_constant\u001b[0m\u001b[0;34m\u001b[0m\u001b[0;34m\u001b[0m\u001b[0m\n",
      "\u001b[0;32m~/Documents/uni/da2021/statsmodels/statsmodels/base/model.py\u001b[0m in \u001b[0;36m_handle_data\u001b[0;34m(self, endog, exog, missing, hasconst, **kwargs)\u001b[0m\n\u001b[1;32m     99\u001b[0m \u001b[0;34m\u001b[0m\u001b[0m\n\u001b[1;32m    100\u001b[0m     \u001b[0;32mdef\u001b[0m \u001b[0m_handle_data\u001b[0m\u001b[0;34m(\u001b[0m\u001b[0mself\u001b[0m\u001b[0;34m,\u001b[0m \u001b[0mendog\u001b[0m\u001b[0;34m,\u001b[0m \u001b[0mexog\u001b[0m\u001b[0;34m,\u001b[0m \u001b[0mmissing\u001b[0m\u001b[0;34m,\u001b[0m \u001b[0mhasconst\u001b[0m\u001b[0;34m,\u001b[0m \u001b[0;34m**\u001b[0m\u001b[0mkwargs\u001b[0m\u001b[0;34m)\u001b[0m\u001b[0;34m:\u001b[0m\u001b[0;34m\u001b[0m\u001b[0;34m\u001b[0m\u001b[0m\n\u001b[0;32m--> 101\u001b[0;31m         \u001b[0mdata\u001b[0m \u001b[0;34m=\u001b[0m \u001b[0mhandle_data\u001b[0m\u001b[0;34m(\u001b[0m\u001b[0mendog\u001b[0m\u001b[0;34m,\u001b[0m \u001b[0mexog\u001b[0m\u001b[0;34m,\u001b[0m \u001b[0mmissing\u001b[0m\u001b[0;34m,\u001b[0m \u001b[0mhasconst\u001b[0m\u001b[0;34m,\u001b[0m \u001b[0;34m**\u001b[0m\u001b[0mkwargs\u001b[0m\u001b[0;34m)\u001b[0m\u001b[0;34m\u001b[0m\u001b[0;34m\u001b[0m\u001b[0m\n\u001b[0m\u001b[1;32m    102\u001b[0m         \u001b[0;31m# kwargs arrays could have changed, easier to just attach here\u001b[0m\u001b[0;34m\u001b[0m\u001b[0;34m\u001b[0m\u001b[0;34m\u001b[0m\u001b[0m\n\u001b[1;32m    103\u001b[0m         \u001b[0;32mfor\u001b[0m \u001b[0mkey\u001b[0m \u001b[0;32min\u001b[0m \u001b[0mkwargs\u001b[0m\u001b[0;34m:\u001b[0m\u001b[0;34m\u001b[0m\u001b[0;34m\u001b[0m\u001b[0m\n",
      "\u001b[0;32m~/Documents/uni/da2021/statsmodels/statsmodels/base/data.py\u001b[0m in \u001b[0;36mhandle_data\u001b[0;34m(endog, exog, missing, hasconst, **kwargs)\u001b[0m\n\u001b[1;32m    670\u001b[0m \u001b[0;34m\u001b[0m\u001b[0m\n\u001b[1;32m    671\u001b[0m     \u001b[0mklass\u001b[0m \u001b[0;34m=\u001b[0m \u001b[0mhandle_data_class_factory\u001b[0m\u001b[0;34m(\u001b[0m\u001b[0mendog\u001b[0m\u001b[0;34m,\u001b[0m \u001b[0mexog\u001b[0m\u001b[0;34m)\u001b[0m\u001b[0;34m\u001b[0m\u001b[0;34m\u001b[0m\u001b[0m\n\u001b[0;32m--> 672\u001b[0;31m     return klass(endog, exog=exog, missing=missing, hasconst=hasconst,\n\u001b[0m\u001b[1;32m    673\u001b[0m                  **kwargs)\n",
      "\u001b[0;32m~/Documents/uni/da2021/statsmodels/statsmodels/base/data.py\u001b[0m in \u001b[0;36m__init__\u001b[0;34m(self, endog, exog, missing, hasconst, **kwargs)\u001b[0m\n\u001b[1;32m     81\u001b[0m             \u001b[0mself\u001b[0m\u001b[0;34m.\u001b[0m\u001b[0morig_endog\u001b[0m \u001b[0;34m=\u001b[0m \u001b[0mendog\u001b[0m\u001b[0;34m\u001b[0m\u001b[0;34m\u001b[0m\u001b[0m\n\u001b[1;32m     82\u001b[0m             \u001b[0mself\u001b[0m\u001b[0;34m.\u001b[0m\u001b[0morig_exog\u001b[0m \u001b[0;34m=\u001b[0m \u001b[0mexog\u001b[0m\u001b[0;34m\u001b[0m\u001b[0;34m\u001b[0m\u001b[0m\n\u001b[0;32m---> 83\u001b[0;31m             \u001b[0mself\u001b[0m\u001b[0;34m.\u001b[0m\u001b[0mendog\u001b[0m\u001b[0;34m,\u001b[0m \u001b[0mself\u001b[0m\u001b[0;34m.\u001b[0m\u001b[0mexog\u001b[0m \u001b[0;34m=\u001b[0m \u001b[0mself\u001b[0m\u001b[0;34m.\u001b[0m\u001b[0m_convert_endog_exog\u001b[0m\u001b[0;34m(\u001b[0m\u001b[0mendog\u001b[0m\u001b[0;34m,\u001b[0m \u001b[0mexog\u001b[0m\u001b[0;34m)\u001b[0m\u001b[0;34m\u001b[0m\u001b[0;34m\u001b[0m\u001b[0m\n\u001b[0m\u001b[1;32m     84\u001b[0m \u001b[0;34m\u001b[0m\u001b[0m\n\u001b[1;32m     85\u001b[0m         \u001b[0mself\u001b[0m\u001b[0;34m.\u001b[0m\u001b[0mconst_idx\u001b[0m \u001b[0;34m=\u001b[0m \u001b[0;32mNone\u001b[0m\u001b[0;34m\u001b[0m\u001b[0;34m\u001b[0m\u001b[0m\n",
      "\u001b[0;32m~/Documents/uni/da2021/statsmodels/statsmodels/base/data.py\u001b[0m in \u001b[0;36m_convert_endog_exog\u001b[0;34m(self, endog, exog)\u001b[0m\n\u001b[1;32m    506\u001b[0m         \u001b[0mexog\u001b[0m \u001b[0;34m=\u001b[0m \u001b[0mexog\u001b[0m \u001b[0;32mif\u001b[0m \u001b[0mexog\u001b[0m \u001b[0;32mis\u001b[0m \u001b[0;32mNone\u001b[0m \u001b[0;32melse\u001b[0m \u001b[0mnp\u001b[0m\u001b[0;34m.\u001b[0m\u001b[0masarray\u001b[0m\u001b[0;34m(\u001b[0m\u001b[0mexog\u001b[0m\u001b[0;34m)\u001b[0m\u001b[0;34m\u001b[0m\u001b[0;34m\u001b[0m\u001b[0m\n\u001b[1;32m    507\u001b[0m         \u001b[0;32mif\u001b[0m \u001b[0mendog\u001b[0m\u001b[0;34m.\u001b[0m\u001b[0mdtype\u001b[0m \u001b[0;34m==\u001b[0m \u001b[0mobject\u001b[0m \u001b[0;32mor\u001b[0m \u001b[0mexog\u001b[0m \u001b[0;32mis\u001b[0m \u001b[0;32mnot\u001b[0m \u001b[0;32mNone\u001b[0m \u001b[0;32mand\u001b[0m \u001b[0mexog\u001b[0m\u001b[0;34m.\u001b[0m\u001b[0mdtype\u001b[0m \u001b[0;34m==\u001b[0m \u001b[0mobject\u001b[0m\u001b[0;34m:\u001b[0m\u001b[0;34m\u001b[0m\u001b[0;34m\u001b[0m\u001b[0m\n\u001b[0;32m--> 508\u001b[0;31m             raise ValueError(\"Pandas data cast to numpy dtype of object. \"\n\u001b[0m\u001b[1;32m    509\u001b[0m                              \"Check input data with np.asarray(data).\")\n\u001b[1;32m    510\u001b[0m         \u001b[0;32mreturn\u001b[0m \u001b[0msuper\u001b[0m\u001b[0;34m(\u001b[0m\u001b[0mPandasData\u001b[0m\u001b[0;34m,\u001b[0m \u001b[0mself\u001b[0m\u001b[0;34m)\u001b[0m\u001b[0;34m.\u001b[0m\u001b[0m_convert_endog_exog\u001b[0m\u001b[0;34m(\u001b[0m\u001b[0mendog\u001b[0m\u001b[0;34m,\u001b[0m \u001b[0mexog\u001b[0m\u001b[0;34m)\u001b[0m\u001b[0;34m\u001b[0m\u001b[0;34m\u001b[0m\u001b[0m\n",
      "\u001b[0;31mValueError\u001b[0m: Pandas data cast to numpy dtype of object. Check input data with np.asarray(data)."
     ]
    }
   ],
   "source": [
    "# probit ordinal regression\n",
    "mod_prob = OrderedModel(np.asarray(uk['polintr']),\n",
    "                        uk[['age', 'sex', 'edu', 'income1']],\n",
    "                        distr='probit')\n",
    "\n",
    "res_prob = mod_prob.fit(method='bfgs')\n",
    "res_prob.summary()"
   ]
  },
  {
   "cell_type": "markdown",
   "id": "celtic-milwaukee",
   "metadata": {},
   "source": [
    "## 2. Interpret the coefficients."
   ]
  },
  {
   "cell_type": "code",
   "execution_count": null,
   "id": "introductory-architect",
   "metadata": {},
   "outputs": [],
   "source": []
  },
  {
   "cell_type": "markdown",
   "id": "comparative-nutrition",
   "metadata": {},
   "source": [
    "## 3. Tell if the model fits data well."
   ]
  },
  {
   "cell_type": "code",
   "execution_count": null,
   "id": "noted-brick",
   "metadata": {},
   "outputs": [],
   "source": []
  },
  {
   "cell_type": "markdown",
   "id": "unavailable-albany",
   "metadata": {},
   "source": [
    "## 4. Visualize the link between interest in politics and age when respondent completed education."
   ]
  },
  {
   "cell_type": "code",
   "execution_count": null,
   "id": "spanish-repair",
   "metadata": {},
   "outputs": [],
   "source": []
  },
  {
   "cell_type": "code",
   "execution_count": null,
   "id": "excited-yellow",
   "metadata": {},
   "outputs": [],
   "source": [
    "# Constructing a model\n",
    "model = smf.logit(formula='concert1 ~ age + gender + commun + bill + edu', data=culture).fit()\n",
    "print(model.summary())"
   ]
  },
  {
   "cell_type": "markdown",
   "id": "humanitarian-flesh",
   "metadata": {},
   "source": [
    "## Results interpretation:"
   ]
  },
  {
   "cell_type": "code",
   "execution_count": null,
   "id": "optional-lindsay",
   "metadata": {},
   "outputs": [],
   "source": [
    "model.pvalues < 0.05"
   ]
  },
  {
   "cell_type": "markdown",
   "id": "legitimate-vision",
   "metadata": {},
   "source": [
    "**All coefficients are significant!**"
   ]
  },
  {
   "cell_type": "code",
   "execution_count": null,
   "id": "optional-platinum",
   "metadata": {},
   "outputs": [],
   "source": [
    "# Odds Ratio\n",
    "round(np.exp(model.params), 3)"
   ]
  },
  {
   "cell_type": "markdown",
   "id": "changing-pressing",
   "metadata": {},
   "source": [
    "- **gender[T.Female]**: changing of gender to **Female** multiplies odds of concert attendance by **1.075** times\n",
    "\n",
    "\n",
    "- **commun[T.Small/middle town]**: changing of community type to **Small/middle town** multiplies odds of concert attendance by **1.222** times\n",
    "- **commun[T.Large town]**: changing of community type to **Large town** multiplies odds of concert attendance by **1.281** times\n",
    "\n",
    "\n",
    "- **bill[T.no]**: having difficulties with paying bills (in comparison with thhe absence of such difficulties) multiplies odds of concert attendance by **1.821** times\n",
    "\n",
    "\n",
    "- **age**: increase in one year of age multiplies odds of concert attendance by **0.982** times\n",
    "- **edu**: increase in one year of edu multiplies odds of concert attendance by **1.129** times"
   ]
  },
  {
   "cell_type": "code",
   "execution_count": null,
   "id": "attended-journal",
   "metadata": {},
   "outputs": [],
   "source": [
    "# Average Marginal Effects\n",
    "print(model.get_margeff().summary())"
   ]
  },
  {
   "cell_type": "markdown",
   "id": "furnished-kansas",
   "metadata": {},
   "source": [
    "- **gender[T.Female]**: changing of gender to Female **increases** the probability of concert attendance by 1.49%\n",
    "\n",
    "\n",
    "- **commun[T.Small/middle town]**: ichanging of community type to Small/middle town **increases** the probability of concert attendance by 4.12%\n",
    "- **commun[T.Large town]**: changing of community type to Large town **increases** the probability of concert attendance by 5.1%\n",
    "\n",
    "\n",
    "- **bill[T.no]**: having difficulties with paying bills (in comparison with thhe absence of such difficulties) **increases** the probability of concert attendance by 12.33%\n",
    "\n",
    "\n",
    "- **age**: increase in one year of age **decreases** the probability of concert attendance by 0.37%\n",
    "- **edu**: increase in one year of edu **increases** the probability of concert attendance by 2.49%"
   ]
  },
  {
   "cell_type": "markdown",
   "id": "mineral-oakland",
   "metadata": {},
   "source": [
    "### Overall\n",
    "\n",
    "- **gender** doesn't have strong effect\n",
    "\n",
    "- the larger **community type** the bigger probability to attend concert (*I suppose just because of bigger amount of concerts in larger towns*)\n",
    "\n",
    "- **bill** (or having difficulties of paying bills) have quite strong *at least among other variables* effect on concert attendance: **for having problems with bills probability increases by 12%**\n",
    "\n",
    "- **age** seems to have no strong effect on probability of concert attendance\n",
    "\n",
    "- and more **educated** ones will have bigger chances of concert attendance"
   ]
  },
  {
   "cell_type": "code",
   "execution_count": null,
   "id": "comparative-union",
   "metadata": {},
   "outputs": [],
   "source": [
    "# Check for quadratic relationships\n",
    "# Constructing a model\n",
    "model0 = smf.logit(formula='concert1 ~ np.power(age, 2) + gender + commun + bill + edu', data=culture).fit()\n",
    "print(model0.summary())"
   ]
  },
  {
   "cell_type": "markdown",
   "id": "expanded-interval",
   "metadata": {},
   "source": [
    "## Note on quadratic relationship of age & concert attendance\n",
    "\n",
    "Looks like there *is no any significant and/or strong relationships* between those two variables - neither confidence intervals are reliable (-0 is not goot CI at all) or the coefficient value almost at 0 too."
   ]
  },
  {
   "cell_type": "code",
   "execution_count": null,
   "id": "eligible-there",
   "metadata": {},
   "outputs": [],
   "source": [
    "sm.graphics.plot_partregress(endog='concert1', exog_i='age', exog_others=['gender', 'commun', 'bill', 'edu'], data=culture, obs_labels=False);"
   ]
  },
  {
   "cell_type": "markdown",
   "id": "rocky-result",
   "metadata": {},
   "source": [
    "## Plot interpretation\n",
    "- As can be seen **bigger group** of observations concentrated in lower part - larger amount of people not attend concerts.\n",
    "- And with more years of age lower group are **slowly growing in size** - more people with ages tend to not attend concerts.\n",
    "\n",
    "From those two observations can be derived simple assumption (which is already confirmed by the model) that **with more years of age probability of attending on concerts decreasing very slowly.**"
   ]
  },
  {
   "cell_type": "code",
   "execution_count": null,
   "id": "british-gossip",
   "metadata": {},
   "outputs": [],
   "source": [
    "# Pseudo R^2\n",
    "print('Pseudo R^2:', model.summary().tables[0][3][3])"
   ]
  },
  {
   "cell_type": "code",
   "execution_count": null,
   "id": "continued-cloud",
   "metadata": {},
   "outputs": [],
   "source": [
    "# PCP\n",
    "predicted = [np.where(i == i.max())[0][0] for i in model.predict()]\n",
    "print('Percentage of Correct Predictions (PCP): ', (round(sum(predicted == culture.concert1)/len(culture)*100, 1)), '%', sep='')"
   ]
  },
  {
   "cell_type": "markdown",
   "id": "favorite-rings",
   "metadata": {},
   "source": [
    "## Model fit:\n",
    "- **Pseudo-R squared** is below 0.1 so model can be considered as poor-mediocre fit\n",
    "- **PCP or Accuracy** equals to 63.8% which is anyway better that 50/50 guessing!"
   ]
  },
  {
   "cell_type": "markdown",
   "id": "expanded-double",
   "metadata": {},
   "source": [
    "# Task 2: **values**\n",
    "\n",
    "Select only respondents from Finland.\n",
    "1. Specify a model to predict the value of achievement by other variables.\n",
    "2. Interpret the results\n",
    "3. Check if there is an interaction effect between respondent’s age and respondent’s gender.\n",
    "4. Visualize the interaction effect, interpret the results.\n",
    "5. Look at model fit, interpret the results.\n",
    "6. Check if the model has outliers, multicollinearity, non-linear effects, and non-constant error variance. "
   ]
  },
  {
   "cell_type": "code",
   "execution_count": null,
   "id": "leading-decision",
   "metadata": {},
   "outputs": [],
   "source": [
    "values = values.dropna()\n",
    "# Constructing a model\n",
    "model = smf.ols(formula='achiv ~ cntry + stim + hedon + benev + intgndr + intage1 + gndr + age + eduy + domicil', data=values).fit()\n",
    "print(model.summary())"
   ]
  },
  {
   "cell_type": "markdown",
   "id": "impressed-billy",
   "metadata": {},
   "source": [
    "## Results interpretation:"
   ]
  },
  {
   "cell_type": "code",
   "execution_count": null,
   "id": "chronic-clearing",
   "metadata": {},
   "outputs": [],
   "source": [
    "model.pvalues[model.pvalues > 0.05]"
   ]
  },
  {
   "cell_type": "markdown",
   "id": "structured-access",
   "metadata": {},
   "source": [
    "**All coefficients are significant** except:\n",
    "- Croatia\n",
    "- Hungary\n",
    "- Poland\n",
    "- Slovakia\n",
    "\n",
    "Listed countries will be not interpreted in the further model exploration!"
   ]
  },
  {
   "cell_type": "code",
   "execution_count": null,
   "id": "rolled-filing",
   "metadata": {},
   "outputs": [],
   "source": [
    "# Interaction effect between respondent’s age and respondent’s gender\n",
    "model0 = smf.ols(formula='achiv ~ cntry + stim + hedon + benev + intgndr + intage1 + age*gndr + eduy + domicil', data=values).fit()\n",
    "print('Age & Gender interaction with coef = ' + model0.summary().tables[1][-2][1].data.strip() + ' and p-value =' + model0.summary().tables[1][-2][4].data)"
   ]
  },
  {
   "cell_type": "code",
   "execution_count": null,
   "id": "harmful-blackjack",
   "metadata": {},
   "outputs": [],
   "source": [
    "# Visualize the interaction effect, interpret the results\n",
    "sns.lmplot(x=\"age\", y=\"achiv\", hue=\"gndr\", data=values, \n",
    "           truncate=0, scatter=0, line_kws={'linewidth':10},\n",
    "           height=9, aspect=12/8).set(yscale=\"log\");"
   ]
  },
  {
   "cell_type": "markdown",
   "id": "mental-deadline",
   "metadata": {},
   "source": [
    "Interaction effect truly exists and **gender** significantly moderates effect of **age** - as can be seen overall trend with more years of age to values achievements lower but! for **males that downtrend is elaborated with much lower slope** than for females"
   ]
  },
  {
   "cell_type": "code",
   "execution_count": null,
   "id": "novel-force",
   "metadata": {},
   "outputs": [],
   "source": [
    "# Look at model fit, interpret the results\n",
    "model.summary().tables[0]"
   ]
  },
  {
   "cell_type": "markdown",
   "id": "cloudy-conservation",
   "metadata": {},
   "source": [
    "R-sqaured and Adjusted R-squared are equal (which seems strange to me because I await for lower adjusted R-squared with such amount of regressors)\n",
    "\n",
    "They both equals to 29.5-4% of explained variance which is not really cool with that amount of regressors."
   ]
  },
  {
   "cell_type": "markdown",
   "id": "technical-jewelry",
   "metadata": {},
   "source": [
    "## Assumptions"
   ]
  },
  {
   "cell_type": "code",
   "execution_count": null,
   "id": "prospective-broadcasting",
   "metadata": {},
   "outputs": [],
   "source": [
    "# outliers\n",
    "(c, p) = model.get_influence().cooks_distance\n",
    "with mpl.rc_context():\n",
    "    mpl.rc(\"figure\", figsize=(20, 15))\n",
    "    plt.stem(np.arange(len(c)), c, markerfmt=\",\");"
   ]
  },
  {
   "cell_type": "markdown",
   "id": "prime-cinema",
   "metadata": {},
   "source": [
    "Almost any observation looks to be *influential* - but that highly affected by number of observations."
   ]
  },
  {
   "cell_type": "code",
   "execution_count": null,
   "id": "loving-vehicle",
   "metadata": {},
   "outputs": [],
   "source": [
    "# multicollinearity\n",
    "from statsmodels.tools.tools import add_constant\n",
    "from statsmodels.stats.outliers_influence import variance_inflation_factor\n",
    "X = add_constant(values[['achiv', 'age']].dropna())\n",
    "pd.Series([variance_inflation_factor(X.values, i) for i in range(X.shape[1])], \n",
    "          index=X.columns)"
   ]
  },
  {
   "cell_type": "markdown",
   "id": "fresh-delhi",
   "metadata": {},
   "source": [
    "As can be seen by VIF value for constant variable (intercept) **there is multicollinearity** for the outcome (but not for numeric regressors)."
   ]
  },
  {
   "cell_type": "markdown",
   "id": "physical-pizza",
   "metadata": {},
   "source": [
    "stim                                            0.2381      0.005     46.561      0.000       0.228       0.248\n",
    "hedon                                           0.1876      0.005     34.642      0.000       0.177       0.198\n",
    "benev                                           0.1892      0.007     27.918      0.000       0.176       0.202\n",
    "intage1                                         0.0014      0.000      3.198      0.001       0.001       0.002\n",
    "age                                            -0.0060      0.000    -20.502      0.000      -0.007      -0.005\n",
    "eduy     "
   ]
  },
  {
   "cell_type": "code",
   "execution_count": null,
   "id": "preliminary-stations",
   "metadata": {},
   "outputs": [],
   "source": [
    "### non-linear effects\n",
    "with mpl.rc_context():\n",
    "    mpl.rc(\"figure\", figsize=(10, 7))\n",
    "    smg.plot_ccpr(model, 'stim')"
   ]
  },
  {
   "cell_type": "code",
   "execution_count": null,
   "id": "front-denial",
   "metadata": {},
   "outputs": [],
   "source": [
    "with mpl.rc_context():\n",
    "    mpl.rc(\"figure\", figsize=(10, 7))\n",
    "    smg.plot_ccpr(model, 'hedon')"
   ]
  },
  {
   "cell_type": "code",
   "execution_count": null,
   "id": "leading-johnston",
   "metadata": {},
   "outputs": [],
   "source": [
    "with mpl.rc_context():\n",
    "    mpl.rc(\"figure\", figsize=(10, 7))\n",
    "    smg.plot_ccpr(model, 'benev')"
   ]
  },
  {
   "cell_type": "code",
   "execution_count": null,
   "id": "caroline-marketing",
   "metadata": {},
   "outputs": [],
   "source": [
    "with mpl.rc_context():\n",
    "    mpl.rc(\"figure\", figsize=(10, 7))\n",
    "    smg.plot_ccpr(model, 'intage1')"
   ]
  },
  {
   "cell_type": "code",
   "execution_count": null,
   "id": "leading-lawsuit",
   "metadata": {},
   "outputs": [],
   "source": [
    "with mpl.rc_context():\n",
    "    mpl.rc(\"figure\", figsize=(10, 7))\n",
    "    smg.plot_ccpr(model, 'age')"
   ]
  },
  {
   "cell_type": "code",
   "execution_count": null,
   "id": "initial-pakistan",
   "metadata": {},
   "outputs": [],
   "source": [
    "with mpl.rc_context():\n",
    "    mpl.rc(\"figure\", figsize=(10, 7))\n",
    "    smg.plot_ccpr(model, 'eduy')"
   ]
  },
  {
   "cell_type": "markdown",
   "id": "enabling-omaha",
   "metadata": {},
   "source": [
    "### No any non-linear relationships for numeric regressors are found."
   ]
  },
  {
   "cell_type": "code",
   "execution_count": null,
   "id": "speaking-charge",
   "metadata": {},
   "outputs": [],
   "source": [
    "# non-constant error variance\n",
    "print(sms.het_breuschpagan(model0.resid, values[['achiv', 'age']].dropna())[1::2])\n",
    "\n",
    "print(sms.het_goldfeldquandt(model0.resid, values[['achiv', 'age']].dropna()))"
   ]
  },
  {
   "cell_type": "markdown",
   "id": "competent-checkout",
   "metadata": {},
   "source": [
    "Both tests **indicate violation of homoscedasticity.**"
   ]
  }
 ],
 "metadata": {
  "kernelspec": {
   "display_name": "Python 3",
   "language": "python",
   "name": "python3"
  },
  "language_info": {
   "codemirror_mode": {
    "name": "ipython",
    "version": 3
   },
   "file_extension": ".py",
   "mimetype": "text/x-python",
   "name": "python",
   "nbconvert_exporter": "python",
   "pygments_lexer": "ipython3",
   "version": "3.8.6"
  }
 },
 "nbformat": 4,
 "nbformat_minor": 5
}
