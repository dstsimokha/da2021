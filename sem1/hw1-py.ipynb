{
 "metadata": {
  "language_info": {
   "codemirror_mode": {
    "name": "ipython",
    "version": 3
   },
   "file_extension": ".py",
   "mimetype": "text/x-python",
   "name": "python",
   "nbconvert_exporter": "python",
   "pygments_lexer": "ipython3",
   "version": "3.8.6-final"
  },
  "orig_nbformat": 2,
  "kernelspec": {
   "name": "python3",
   "display_name": "Python 3.8.6 64-bit ('env')",
   "metadata": {
    "interpreter": {
     "hash": "d9ee830d082311d789f51e164245470d39a0880714eb2006219a8ff5e80e2718"
    }
   }
  }
 },
 "nbformat": 4,
 "nbformat_minor": 2,
 "cells": [
  {
   "cell_type": "code",
   "execution_count": 17,
   "metadata": {},
   "outputs": [],
   "source": [
    "import rpy2.rinterface\n",
    "import rpy2.robjects as robjects\n",
    "import numpy as np\n",
    "import pandas as pd\n",
    "import statsmodels.formula.api as smf\n",
    "# https://www.statsmodels.org/stable/examples/notebooks/generated/formulas.html"
   ]
  },
  {
   "cell_type": "code",
   "execution_count": 2,
   "metadata": {},
   "outputs": [],
   "source": [
    "%load_ext rpy2.ipython"
   ]
  },
  {
   "cell_type": "code",
   "execution_count": 3,
   "metadata": {},
   "outputs": [
    {
     "output_type": "stream",
     "name": "stdout",
     "text": [
      "[1] \"data.frame\"\n"
     ]
    }
   ],
   "source": [
    "%%R -o Germany\n",
    "load('LM3.RData')"
   ]
  },
  {
   "cell_type": "code",
   "execution_count": 13,
   "metadata": {},
   "outputs": [],
   "source": [
    "Germany['log_alcwkdyn'] = np.log(Germany['alcwkdyn'])\n",
    "Germany['log_alcwkndn'] = np.log(Germany['alcwkndn'])"
   ]
  },
  {
   "source": [
    "# Task 1\n",
    "Specify two models to predict the amount of alcohol consumed on weekends and weekdays by the respondents’education, gender, income,and age.  \n",
    "Please, use the log of the amount of alcohol.  \n",
    "Interpret the results(coefficients, R^2).  "
   ],
   "cell_type": "markdown",
   "metadata": {}
  },
  {
   "source": [
    "## Model for weekdays:"
   ],
   "cell_type": "markdown",
   "metadata": {}
  },
  {
   "cell_type": "code",
   "execution_count": 21,
   "metadata": {},
   "outputs": [
    {
     "output_type": "execute_result",
     "data": {
      "text/plain": [
       "<class 'statsmodels.iolib.summary.Summary'>\n",
       "\"\"\"\n",
       "                            OLS Regression Results                            \n",
       "==============================================================================\n",
       "Dep. Variable:           log_alcwkdyn   R-squared:                       0.048\n",
       "Model:                            OLS   Adj. R-squared:                  0.046\n",
       "Method:                 Least Squares   F-statistic:                     25.29\n",
       "Date:                 Сб, 16 янв 2021   Prob (F-statistic):           1.85e-20\n",
       "Time:                        13:53:03   Log-Likelihood:                -3372.1\n",
       "No. Observations:                2000   AIC:                             6754.\n",
       "Df Residuals:                    1995   BIC:                             6782.\n",
       "Df Model:                           4                                         \n",
       "Covariance Type:            nonrobust                                         \n",
       "==================================================================================\n",
       "                     coef    std err          t      P>|t|      [0.025      0.975]\n",
       "----------------------------------------------------------------------------------\n",
       "Intercept          2.3322      0.200     11.673      0.000       1.940       2.724\n",
       "gndr[T.Female]    -0.5492      0.059     -9.291      0.000      -0.665      -0.433\n",
       "eduyrsn            0.0116      0.009      1.233      0.218      -0.007       0.030\n",
       "incdec             0.0202      0.012      1.752      0.080      -0.002       0.043\n",
       "age                0.0030      0.002      1.344      0.179      -0.001       0.007\n",
       "==============================================================================\n",
       "Omnibus:                      205.007   Durbin-Watson:                   1.973\n",
       "Prob(Omnibus):                  0.000   Jarque-Bera (JB):              272.041\n",
       "Skew:                          -0.901   Prob(JB):                     8.45e-60\n",
       "Kurtosis:                       2.882   Cond. No.                         328.\n",
       "==============================================================================\n",
       "\n",
       "Notes:\n",
       "[1] Standard Errors assume that the covariance matrix of the errors is correctly specified.\n",
       "\"\"\""
      ],
      "text/html": "<table class=\"simpletable\">\n<caption>OLS Regression Results</caption>\n<tr>\n  <th>Dep. Variable:</th>     <td>log_alcwkdyn</td>   <th>  R-squared:         </th> <td>   0.048</td>\n</tr>\n<tr>\n  <th>Model:</th>                  <td>OLS</td>       <th>  Adj. R-squared:    </th> <td>   0.046</td>\n</tr>\n<tr>\n  <th>Method:</th>            <td>Least Squares</td>  <th>  F-statistic:       </th> <td>   25.29</td>\n</tr>\n<tr>\n  <th>Date:</th>             <td>Сб, 16 янв 2021</td> <th>  Prob (F-statistic):</th> <td>1.85e-20</td>\n</tr>\n<tr>\n  <th>Time:</th>                <td>13:53:03</td>     <th>  Log-Likelihood:    </th> <td> -3372.1</td>\n</tr>\n<tr>\n  <th>No. Observations:</th>     <td>  2000</td>      <th>  AIC:               </th> <td>   6754.</td>\n</tr>\n<tr>\n  <th>Df Residuals:</th>         <td>  1995</td>      <th>  BIC:               </th> <td>   6782.</td>\n</tr>\n<tr>\n  <th>Df Model:</th>             <td>     4</td>      <th>                     </th>     <td> </td>   \n</tr>\n<tr>\n  <th>Covariance Type:</th>     <td>nonrobust</td>    <th>                     </th>     <td> </td>   \n</tr>\n</table>\n<table class=\"simpletable\">\n<tr>\n         <td></td>           <th>coef</th>     <th>std err</th>      <th>t</th>      <th>P>|t|</th>  <th>[0.025</th>    <th>0.975]</th>  \n</tr>\n<tr>\n  <th>Intercept</th>      <td>    2.3322</td> <td>    0.200</td> <td>   11.673</td> <td> 0.000</td> <td>    1.940</td> <td>    2.724</td>\n</tr>\n<tr>\n  <th>gndr[T.Female]</th> <td>   -0.5492</td> <td>    0.059</td> <td>   -9.291</td> <td> 0.000</td> <td>   -0.665</td> <td>   -0.433</td>\n</tr>\n<tr>\n  <th>eduyrsn</th>        <td>    0.0116</td> <td>    0.009</td> <td>    1.233</td> <td> 0.218</td> <td>   -0.007</td> <td>    0.030</td>\n</tr>\n<tr>\n  <th>incdec</th>         <td>    0.0202</td> <td>    0.012</td> <td>    1.752</td> <td> 0.080</td> <td>   -0.002</td> <td>    0.043</td>\n</tr>\n<tr>\n  <th>age</th>            <td>    0.0030</td> <td>    0.002</td> <td>    1.344</td> <td> 0.179</td> <td>   -0.001</td> <td>    0.007</td>\n</tr>\n</table>\n<table class=\"simpletable\">\n<tr>\n  <th>Omnibus:</th>       <td>205.007</td> <th>  Durbin-Watson:     </th> <td>   1.973</td>\n</tr>\n<tr>\n  <th>Prob(Omnibus):</th> <td> 0.000</td>  <th>  Jarque-Bera (JB):  </th> <td> 272.041</td>\n</tr>\n<tr>\n  <th>Skew:</th>          <td>-0.901</td>  <th>  Prob(JB):          </th> <td>8.45e-60</td>\n</tr>\n<tr>\n  <th>Kurtosis:</th>      <td> 2.882</td>  <th>  Cond. No.          </th> <td>    328.</td>\n</tr>\n</table><br/><br/>Notes:<br/>[1] Standard Errors assume that the covariance matrix of the errors is correctly specified."
     },
     "metadata": {},
     "execution_count": 21
    }
   ],
   "source": [
    "modelDays = smf.ols(formula='log_alcwkdyn ~ eduyrsn + gndr + incdec + age', data=Germany).fit()\n",
    "modelDays.summary()"
   ]
  },
  {
   "cell_type": "code",
   "execution_count": 41,
   "metadata": {},
   "outputs": [],
   "source": [
    "# dir(modelDays)"
   ]
  },
  {
   "cell_type": "code",
   "execution_count": 39,
   "metadata": {},
   "outputs": [
    {
     "output_type": "execute_result",
     "data": {
      "text/plain": [
       "Intercept                 2.083373\n",
       "gndr[T.Female]           -0.745135\n",
       "eduyrsn                   0.006893\n",
       "eduyrsn:gndr[T.Female]    0.012424\n",
       "incdec                    0.073441\n",
       "age                       0.010320\n",
       "incdec:age               -0.001245\n",
       "dtype: float64"
      ]
     },
     "metadata": {},
     "execution_count": 39
    }
   ],
   "source": [
    "modelDays.params"
   ]
  },
  {
   "cell_type": "code",
   "execution_count": 43,
   "metadata": {},
   "outputs": [],
   "source": [
    "sm.webdoc()"
   ]
  },
  {
   "cell_type": "code",
   "execution_count": 42,
   "metadata": {},
   "outputs": [
    {
     "output_type": "error",
     "ename": "ImportError",
     "evalue": "Matplotlib is not found.",
     "traceback": [
      "\u001b[0;31m---------------------------------------------------------------------------\u001b[0m",
      "\u001b[0;31mModuleNotFoundError\u001b[0m                       Traceback (most recent call last)",
      "\u001b[0;32m~/Documents/uni/da2021/env/lib/python3.8/site-packages/statsmodels/graphics/utils.py\u001b[0m in \u001b[0;36m_import_mpl\u001b[0;34m()\u001b[0m\n\u001b[1;32m      9\u001b[0m     \u001b[0;32mtry\u001b[0m\u001b[0;34m:\u001b[0m\u001b[0;34m\u001b[0m\u001b[0;34m\u001b[0m\u001b[0m\n\u001b[0;32m---> 10\u001b[0;31m         \u001b[0;32mimport\u001b[0m \u001b[0mmatplotlib\u001b[0m\u001b[0;34m.\u001b[0m\u001b[0mpyplot\u001b[0m \u001b[0;32mas\u001b[0m \u001b[0mplt\u001b[0m\u001b[0;34m\u001b[0m\u001b[0;34m\u001b[0m\u001b[0m\n\u001b[0m\u001b[1;32m     11\u001b[0m     \u001b[0;32mexcept\u001b[0m\u001b[0;34m:\u001b[0m\u001b[0;34m\u001b[0m\u001b[0;34m\u001b[0m\u001b[0m\n",
      "\u001b[0;31mModuleNotFoundError\u001b[0m: No module named 'matplotlib'",
      "\nDuring handling of the above exception, another exception occurred:\n",
      "\u001b[0;31mImportError\u001b[0m                               Traceback (most recent call last)",
      "\u001b[0;32m<ipython-input-42-1aaa873312d8>\u001b[0m in \u001b[0;36m<module>\u001b[0;34m\u001b[0m\n\u001b[0;32m----> 1\u001b[0;31m \u001b[0msm\u001b[0m\u001b[0;34m.\u001b[0m\u001b[0mgraphics\u001b[0m\u001b[0;34m.\u001b[0m\u001b[0mplot_partregress\u001b[0m\u001b[0;34m(\u001b[0m\u001b[0;34m'log_alcwkdyn'\u001b[0m\u001b[0;34m,\u001b[0m \u001b[0;34m'eduyrsn'\u001b[0m\u001b[0;34m,\u001b[0m \u001b[0;34m[\u001b[0m\u001b[0;34m'gndr'\u001b[0m\u001b[0;34m,\u001b[0m \u001b[0;34m'incdec'\u001b[0m\u001b[0;34m,\u001b[0m \u001b[0;34m'age'\u001b[0m\u001b[0;34m]\u001b[0m\u001b[0;34m,\u001b[0m \u001b[0mdata\u001b[0m\u001b[0;34m=\u001b[0m\u001b[0mGermany\u001b[0m\u001b[0;34m,\u001b[0m \u001b[0mobs_labels\u001b[0m\u001b[0;34m=\u001b[0m\u001b[0;32mFalse\u001b[0m\u001b[0;34m)\u001b[0m\u001b[0;34m\u001b[0m\u001b[0;34m\u001b[0m\u001b[0m\n\u001b[0m",
      "\u001b[0;32m~/Documents/uni/da2021/env/lib/python3.8/site-packages/statsmodels/graphics/regressionplots.py\u001b[0m in \u001b[0;36mplot_partregress\u001b[0;34m(endog, exog_i, exog_others, data, title_kwargs, obs_labels, label_kwargs, ax, ret_coords, **kwargs)\u001b[0m\n\u001b[1;32m    383\u001b[0m     \u001b[0;31m#NOTE: there is no interaction between possible missing data and\u001b[0m\u001b[0;34m\u001b[0m\u001b[0;34m\u001b[0m\u001b[0;34m\u001b[0m\u001b[0m\n\u001b[1;32m    384\u001b[0m     \u001b[0;31m#obs_labels yet, so this will need to be tweaked a bit for this case\u001b[0m\u001b[0;34m\u001b[0m\u001b[0;34m\u001b[0m\u001b[0;34m\u001b[0m\u001b[0m\n\u001b[0;32m--> 385\u001b[0;31m     \u001b[0mfig\u001b[0m\u001b[0;34m,\u001b[0m \u001b[0max\u001b[0m \u001b[0;34m=\u001b[0m \u001b[0mutils\u001b[0m\u001b[0;34m.\u001b[0m\u001b[0mcreate_mpl_ax\u001b[0m\u001b[0;34m(\u001b[0m\u001b[0max\u001b[0m\u001b[0;34m)\u001b[0m\u001b[0;34m\u001b[0m\u001b[0;34m\u001b[0m\u001b[0m\n\u001b[0m\u001b[1;32m    386\u001b[0m \u001b[0;34m\u001b[0m\u001b[0m\n\u001b[1;32m    387\u001b[0m     \u001b[0;31m# strings, use patsy to transform to data\u001b[0m\u001b[0;34m\u001b[0m\u001b[0;34m\u001b[0m\u001b[0;34m\u001b[0m\u001b[0m\n",
      "\u001b[0;32m~/Documents/uni/da2021/env/lib/python3.8/site-packages/statsmodels/graphics/utils.py\u001b[0m in \u001b[0;36mcreate_mpl_ax\u001b[0;34m(ax)\u001b[0m\n\u001b[1;32m     52\u001b[0m     \"\"\"\n\u001b[1;32m     53\u001b[0m     \u001b[0;32mif\u001b[0m \u001b[0max\u001b[0m \u001b[0;32mis\u001b[0m \u001b[0;32mNone\u001b[0m\u001b[0;34m:\u001b[0m\u001b[0;34m\u001b[0m\u001b[0;34m\u001b[0m\u001b[0m\n\u001b[0;32m---> 54\u001b[0;31m         \u001b[0mplt\u001b[0m \u001b[0;34m=\u001b[0m \u001b[0m_import_mpl\u001b[0m\u001b[0;34m(\u001b[0m\u001b[0;34m)\u001b[0m\u001b[0;34m\u001b[0m\u001b[0;34m\u001b[0m\u001b[0m\n\u001b[0m\u001b[1;32m     55\u001b[0m         \u001b[0mfig\u001b[0m \u001b[0;34m=\u001b[0m \u001b[0mplt\u001b[0m\u001b[0;34m.\u001b[0m\u001b[0mfigure\u001b[0m\u001b[0;34m(\u001b[0m\u001b[0;34m)\u001b[0m\u001b[0;34m\u001b[0m\u001b[0;34m\u001b[0m\u001b[0m\n\u001b[1;32m     56\u001b[0m         \u001b[0max\u001b[0m \u001b[0;34m=\u001b[0m \u001b[0mfig\u001b[0m\u001b[0;34m.\u001b[0m\u001b[0madd_subplot\u001b[0m\u001b[0;34m(\u001b[0m\u001b[0;36m111\u001b[0m\u001b[0;34m)\u001b[0m\u001b[0;34m\u001b[0m\u001b[0;34m\u001b[0m\u001b[0m\n",
      "\u001b[0;32m~/Documents/uni/da2021/env/lib/python3.8/site-packages/statsmodels/graphics/utils.py\u001b[0m in \u001b[0;36m_import_mpl\u001b[0;34m()\u001b[0m\n\u001b[1;32m     10\u001b[0m         \u001b[0;32mimport\u001b[0m \u001b[0mmatplotlib\u001b[0m\u001b[0;34m.\u001b[0m\u001b[0mpyplot\u001b[0m \u001b[0;32mas\u001b[0m \u001b[0mplt\u001b[0m\u001b[0;34m\u001b[0m\u001b[0;34m\u001b[0m\u001b[0m\n\u001b[1;32m     11\u001b[0m     \u001b[0;32mexcept\u001b[0m\u001b[0;34m:\u001b[0m\u001b[0;34m\u001b[0m\u001b[0;34m\u001b[0m\u001b[0m\n\u001b[0;32m---> 12\u001b[0;31m         \u001b[0;32mraise\u001b[0m \u001b[0mImportError\u001b[0m\u001b[0;34m(\u001b[0m\u001b[0;34m\"Matplotlib is not found.\"\u001b[0m\u001b[0;34m)\u001b[0m\u001b[0;34m\u001b[0m\u001b[0;34m\u001b[0m\u001b[0m\n\u001b[0m\u001b[1;32m     13\u001b[0m \u001b[0;34m\u001b[0m\u001b[0m\n\u001b[1;32m     14\u001b[0m     \u001b[0;32mreturn\u001b[0m \u001b[0mplt\u001b[0m\u001b[0;34m\u001b[0m\u001b[0;34m\u001b[0m\u001b[0m\n",
      "\u001b[0;31mImportError\u001b[0m: Matplotlib is not found."
     ]
    }
   ],
   "source": [
    "sm.graphics.plot_partregress('log_alcwkdyn', 'eduyrsn', ['gndr', 'incdec', 'age'], data=Germany, obs_labels=False)"
   ]
  },
  {
   "source": [
    "In the first model for alcohol consumption on **weekdays** only effect of *gender is significant* - *females* consume more than a half (54% lower) less alcohol on weekdays than males.\n",
    "\n",
    "Overall prediction power is small = 0.046 which is lower than 5% of explained variance."
   ],
   "cell_type": "markdown",
   "metadata": {}
  },
  {
   "source": [
    "## Model for weekends:"
   ],
   "cell_type": "markdown",
   "metadata": {}
  },
  {
   "cell_type": "code",
   "execution_count": 19,
   "metadata": {},
   "outputs": [
    {
     "output_type": "execute_result",
     "data": {
      "text/plain": [
       "<class 'statsmodels.iolib.summary.Summary'>\n",
       "\"\"\"\n",
       "                            OLS Regression Results                            \n",
       "==============================================================================\n",
       "Dep. Variable:           log_alcwkndn   R-squared:                       0.092\n",
       "Model:                            OLS   Adj. R-squared:                  0.090\n",
       "Method:                 Least Squares   F-statistic:                     50.33\n",
       "Date:                 Сб, 16 янв 2021   Prob (F-statistic):           2.08e-40\n",
       "Time:                        13:51:25   Log-Likelihood:                -2904.6\n",
       "No. Observations:                1999   AIC:                             5819.\n",
       "Df Residuals:                    1994   BIC:                             5847.\n",
       "Df Model:                           4                                         \n",
       "Covariance Type:            nonrobust                                         \n",
       "==================================================================================\n",
       "                     coef    std err          t      P>|t|      [0.025      0.975]\n",
       "----------------------------------------------------------------------------------\n",
       "Intercept          3.4394      0.158     21.738      0.000       3.129       3.750\n",
       "gndr[T.Female]    -0.5459      0.047    -11.657      0.000      -0.638      -0.454\n",
       "eduyrsn            0.0177      0.007      2.369      0.018       0.003       0.032\n",
       "incdec             0.0099      0.009      1.081      0.280      -0.008       0.028\n",
       "age               -0.0096      0.002     -5.467      0.000      -0.013      -0.006\n",
       "==============================================================================\n",
       "Omnibus:                      438.473   Durbin-Watson:                   1.996\n",
       "Prob(Omnibus):                  0.000   Jarque-Bera (JB):              940.560\n",
       "Skew:                          -1.250   Prob(JB):                    5.75e-205\n",
       "Kurtosis:                       5.246   Cond. No.                         327.\n",
       "==============================================================================\n",
       "\n",
       "Notes:\n",
       "[1] Standard Errors assume that the covariance matrix of the errors is correctly specified.\n",
       "\"\"\""
      ],
      "text/html": "<table class=\"simpletable\">\n<caption>OLS Regression Results</caption>\n<tr>\n  <th>Dep. Variable:</th>     <td>log_alcwkndn</td>   <th>  R-squared:         </th> <td>   0.092</td>\n</tr>\n<tr>\n  <th>Model:</th>                  <td>OLS</td>       <th>  Adj. R-squared:    </th> <td>   0.090</td>\n</tr>\n<tr>\n  <th>Method:</th>            <td>Least Squares</td>  <th>  F-statistic:       </th> <td>   50.33</td>\n</tr>\n<tr>\n  <th>Date:</th>             <td>Сб, 16 янв 2021</td> <th>  Prob (F-statistic):</th> <td>2.08e-40</td>\n</tr>\n<tr>\n  <th>Time:</th>                <td>13:51:25</td>     <th>  Log-Likelihood:    </th> <td> -2904.6</td>\n</tr>\n<tr>\n  <th>No. Observations:</th>     <td>  1999</td>      <th>  AIC:               </th> <td>   5819.</td>\n</tr>\n<tr>\n  <th>Df Residuals:</th>         <td>  1994</td>      <th>  BIC:               </th> <td>   5847.</td>\n</tr>\n<tr>\n  <th>Df Model:</th>             <td>     4</td>      <th>                     </th>     <td> </td>   \n</tr>\n<tr>\n  <th>Covariance Type:</th>     <td>nonrobust</td>    <th>                     </th>     <td> </td>   \n</tr>\n</table>\n<table class=\"simpletable\">\n<tr>\n         <td></td>           <th>coef</th>     <th>std err</th>      <th>t</th>      <th>P>|t|</th>  <th>[0.025</th>    <th>0.975]</th>  \n</tr>\n<tr>\n  <th>Intercept</th>      <td>    3.4394</td> <td>    0.158</td> <td>   21.738</td> <td> 0.000</td> <td>    3.129</td> <td>    3.750</td>\n</tr>\n<tr>\n  <th>gndr[T.Female]</th> <td>   -0.5459</td> <td>    0.047</td> <td>  -11.657</td> <td> 0.000</td> <td>   -0.638</td> <td>   -0.454</td>\n</tr>\n<tr>\n  <th>eduyrsn</th>        <td>    0.0177</td> <td>    0.007</td> <td>    2.369</td> <td> 0.018</td> <td>    0.003</td> <td>    0.032</td>\n</tr>\n<tr>\n  <th>incdec</th>         <td>    0.0099</td> <td>    0.009</td> <td>    1.081</td> <td> 0.280</td> <td>   -0.008</td> <td>    0.028</td>\n</tr>\n<tr>\n  <th>age</th>            <td>   -0.0096</td> <td>    0.002</td> <td>   -5.467</td> <td> 0.000</td> <td>   -0.013</td> <td>   -0.006</td>\n</tr>\n</table>\n<table class=\"simpletable\">\n<tr>\n  <th>Omnibus:</th>       <td>438.473</td> <th>  Durbin-Watson:     </th> <td>   1.996</td> \n</tr>\n<tr>\n  <th>Prob(Omnibus):</th> <td> 0.000</td>  <th>  Jarque-Bera (JB):  </th> <td> 940.560</td> \n</tr>\n<tr>\n  <th>Skew:</th>          <td>-1.250</td>  <th>  Prob(JB):          </th> <td>5.75e-205</td>\n</tr>\n<tr>\n  <th>Kurtosis:</th>      <td> 5.246</td>  <th>  Cond. No.          </th> <td>    327.</td> \n</tr>\n</table><br/><br/>Notes:<br/>[1] Standard Errors assume that the covariance matrix of the errors is correctly specified."
     },
     "metadata": {},
     "execution_count": 19
    }
   ],
   "source": [
    "modelEnds = smf.ols(formula='log_alcwkndn ~ eduyrsn + gndr + incdec + age', data=Germany).fit()\n",
    "modelEnds.summary()"
   ]
  },
  {
   "source": [
    "# Task 2\n",
    "Estimate the interaction terms between gender and education and between income and age in both models.  \n",
    "Interpret the results."
   ],
   "cell_type": "markdown",
   "metadata": {}
  },
  {
   "cell_type": "code",
   "execution_count": 25,
   "metadata": {},
   "outputs": [
    {
     "output_type": "execute_result",
     "data": {
      "text/plain": [
       "<class 'statsmodels.iolib.summary.Summary'>\n",
       "\"\"\"\n",
       "                            OLS Regression Results                            \n",
       "==============================================================================\n",
       "Dep. Variable:           log_alcwkdyn   R-squared:                       0.050\n",
       "Model:                            OLS   Adj. R-squared:                  0.047\n",
       "Method:                 Least Squares   F-statistic:                     17.32\n",
       "Date:                 Сб, 16 янв 2021   Prob (F-statistic):           1.26e-19\n",
       "Time:                        14:00:50   Log-Likelihood:                -3370.7\n",
       "No. Observations:                2000   AIC:                             6755.\n",
       "Df Residuals:                    1993   BIC:                             6795.\n",
       "Df Model:                           6                                         \n",
       "Covariance Type:            nonrobust                                         \n",
       "==========================================================================================\n",
       "                             coef    std err          t      P>|t|      [0.025      0.975]\n",
       "------------------------------------------------------------------------------------------\n",
       "Intercept                  2.0834      0.311      6.706      0.000       1.474       2.693\n",
       "gndr[T.Female]            -0.7451      0.277     -2.688      0.007      -1.289      -0.202\n",
       "eduyrsn                    0.0069      0.013      0.550      0.582      -0.018       0.031\n",
       "eduyrsn:gndr[T.Female]     0.0124      0.018      0.708      0.479      -0.022       0.047\n",
       "incdec                     0.0734      0.036      2.031      0.042       0.003       0.144\n",
       "age                        0.0103      0.005      1.996      0.046       0.000       0.020\n",
       "incdec:age                -0.0012      0.001     -1.543      0.123      -0.003       0.000\n",
       "==============================================================================\n",
       "Omnibus:                      203.116   Durbin-Watson:                   1.976\n",
       "Prob(Omnibus):                  0.000   Jarque-Bera (JB):              268.868\n",
       "Skew:                          -0.896   Prob(JB):                     4.13e-59\n",
       "Kurtosis:                       2.885   Cond. No.                     3.41e+03\n",
       "==============================================================================\n",
       "\n",
       "Notes:\n",
       "[1] Standard Errors assume that the covariance matrix of the errors is correctly specified.\n",
       "[2] The condition number is large, 3.41e+03. This might indicate that there are\n",
       "strong multicollinearity or other numerical problems.\n",
       "\"\"\""
      ],
      "text/html": "<table class=\"simpletable\">\n<caption>OLS Regression Results</caption>\n<tr>\n  <th>Dep. Variable:</th>     <td>log_alcwkdyn</td>   <th>  R-squared:         </th> <td>   0.050</td>\n</tr>\n<tr>\n  <th>Model:</th>                  <td>OLS</td>       <th>  Adj. R-squared:    </th> <td>   0.047</td>\n</tr>\n<tr>\n  <th>Method:</th>            <td>Least Squares</td>  <th>  F-statistic:       </th> <td>   17.32</td>\n</tr>\n<tr>\n  <th>Date:</th>             <td>Сб, 16 янв 2021</td> <th>  Prob (F-statistic):</th> <td>1.26e-19</td>\n</tr>\n<tr>\n  <th>Time:</th>                <td>14:00:50</td>     <th>  Log-Likelihood:    </th> <td> -3370.7</td>\n</tr>\n<tr>\n  <th>No. Observations:</th>     <td>  2000</td>      <th>  AIC:               </th> <td>   6755.</td>\n</tr>\n<tr>\n  <th>Df Residuals:</th>         <td>  1993</td>      <th>  BIC:               </th> <td>   6795.</td>\n</tr>\n<tr>\n  <th>Df Model:</th>             <td>     6</td>      <th>                     </th>     <td> </td>   \n</tr>\n<tr>\n  <th>Covariance Type:</th>     <td>nonrobust</td>    <th>                     </th>     <td> </td>   \n</tr>\n</table>\n<table class=\"simpletable\">\n<tr>\n             <td></td>               <th>coef</th>     <th>std err</th>      <th>t</th>      <th>P>|t|</th>  <th>[0.025</th>    <th>0.975]</th>  \n</tr>\n<tr>\n  <th>Intercept</th>              <td>    2.0834</td> <td>    0.311</td> <td>    6.706</td> <td> 0.000</td> <td>    1.474</td> <td>    2.693</td>\n</tr>\n<tr>\n  <th>gndr[T.Female]</th>         <td>   -0.7451</td> <td>    0.277</td> <td>   -2.688</td> <td> 0.007</td> <td>   -1.289</td> <td>   -0.202</td>\n</tr>\n<tr>\n  <th>eduyrsn</th>                <td>    0.0069</td> <td>    0.013</td> <td>    0.550</td> <td> 0.582</td> <td>   -0.018</td> <td>    0.031</td>\n</tr>\n<tr>\n  <th>eduyrsn:gndr[T.Female]</th> <td>    0.0124</td> <td>    0.018</td> <td>    0.708</td> <td> 0.479</td> <td>   -0.022</td> <td>    0.047</td>\n</tr>\n<tr>\n  <th>incdec</th>                 <td>    0.0734</td> <td>    0.036</td> <td>    2.031</td> <td> 0.042</td> <td>    0.003</td> <td>    0.144</td>\n</tr>\n<tr>\n  <th>age</th>                    <td>    0.0103</td> <td>    0.005</td> <td>    1.996</td> <td> 0.046</td> <td>    0.000</td> <td>    0.020</td>\n</tr>\n<tr>\n  <th>incdec:age</th>             <td>   -0.0012</td> <td>    0.001</td> <td>   -1.543</td> <td> 0.123</td> <td>   -0.003</td> <td>    0.000</td>\n</tr>\n</table>\n<table class=\"simpletable\">\n<tr>\n  <th>Omnibus:</th>       <td>203.116</td> <th>  Durbin-Watson:     </th> <td>   1.976</td>\n</tr>\n<tr>\n  <th>Prob(Omnibus):</th> <td> 0.000</td>  <th>  Jarque-Bera (JB):  </th> <td> 268.868</td>\n</tr>\n<tr>\n  <th>Skew:</th>          <td>-0.896</td>  <th>  Prob(JB):          </th> <td>4.13e-59</td>\n</tr>\n<tr>\n  <th>Kurtosis:</th>      <td> 2.885</td>  <th>  Cond. No.          </th> <td>3.41e+03</td>\n</tr>\n</table><br/><br/>Notes:<br/>[1] Standard Errors assume that the covariance matrix of the errors is correctly specified.<br/>[2] The condition number is large, 3.41e+03. This might indicate that there are<br/>strong multicollinearity or other numerical problems."
     },
     "metadata": {},
     "execution_count": 25
    }
   ],
   "source": [
    "modelDays = smf.ols(formula='log_alcwkdyn ~ eduyrsn * gndr + incdec * age', data=Germany).fit()\n",
    "modelDays.summary()"
   ]
  },
  {
   "cell_type": "code",
   "execution_count": 26,
   "metadata": {},
   "outputs": [
    {
     "output_type": "execute_result",
     "data": {
      "text/plain": [
       "<class 'statsmodels.iolib.summary.Summary'>\n",
       "\"\"\"\n",
       "                            OLS Regression Results                            \n",
       "==============================================================================\n",
       "Dep. Variable:           log_alcwkndn   R-squared:                       0.097\n",
       "Model:                            OLS   Adj. R-squared:                  0.094\n",
       "Method:                 Least Squares   F-statistic:                     35.54\n",
       "Date:                 Сб, 16 янв 2021   Prob (F-statistic):           4.79e-41\n",
       "Time:                        14:01:03   Log-Likelihood:                -2899.1\n",
       "No. Observations:                1999   AIC:                             5812.\n",
       "Df Residuals:                    1992   BIC:                             5851.\n",
       "Df Model:                           6                                         \n",
       "Covariance Type:            nonrobust                                         \n",
       "==========================================================================================\n",
       "                             coef    std err          t      P>|t|      [0.025      0.975]\n",
       "------------------------------------------------------------------------------------------\n",
       "Intercept                  4.0471      0.246     16.443      0.000       3.564       4.530\n",
       "gndr[T.Female]            -0.9995      0.219     -4.554      0.000      -1.430      -0.569\n",
       "eduyrsn                    0.0023      0.010      0.235      0.815      -0.017       0.022\n",
       "eduyrsn:gndr[T.Female]     0.0298      0.014      2.141      0.032       0.003       0.057\n",
       "incdec                    -0.0544      0.029     -1.902      0.057      -0.111       0.002\n",
       "age                       -0.0181      0.004     -4.406      0.000      -0.026      -0.010\n",
       "incdec:age                 0.0015      0.001      2.411      0.016       0.000       0.003\n",
       "==============================================================================\n",
       "Omnibus:                      438.934   Durbin-Watson:                   1.993\n",
       "Prob(Omnibus):                  0.000   Jarque-Bera (JB):              949.826\n",
       "Skew:                          -1.247   Prob(JB):                    5.60e-207\n",
       "Kurtosis:                       5.278   Cond. No.                     3.42e+03\n",
       "==============================================================================\n",
       "\n",
       "Notes:\n",
       "[1] Standard Errors assume that the covariance matrix of the errors is correctly specified.\n",
       "[2] The condition number is large, 3.42e+03. This might indicate that there are\n",
       "strong multicollinearity or other numerical problems.\n",
       "\"\"\""
      ],
      "text/html": "<table class=\"simpletable\">\n<caption>OLS Regression Results</caption>\n<tr>\n  <th>Dep. Variable:</th>     <td>log_alcwkndn</td>   <th>  R-squared:         </th> <td>   0.097</td>\n</tr>\n<tr>\n  <th>Model:</th>                  <td>OLS</td>       <th>  Adj. R-squared:    </th> <td>   0.094</td>\n</tr>\n<tr>\n  <th>Method:</th>            <td>Least Squares</td>  <th>  F-statistic:       </th> <td>   35.54</td>\n</tr>\n<tr>\n  <th>Date:</th>             <td>Сб, 16 янв 2021</td> <th>  Prob (F-statistic):</th> <td>4.79e-41</td>\n</tr>\n<tr>\n  <th>Time:</th>                <td>14:01:03</td>     <th>  Log-Likelihood:    </th> <td> -2899.1</td>\n</tr>\n<tr>\n  <th>No. Observations:</th>     <td>  1999</td>      <th>  AIC:               </th> <td>   5812.</td>\n</tr>\n<tr>\n  <th>Df Residuals:</th>         <td>  1992</td>      <th>  BIC:               </th> <td>   5851.</td>\n</tr>\n<tr>\n  <th>Df Model:</th>             <td>     6</td>      <th>                     </th>     <td> </td>   \n</tr>\n<tr>\n  <th>Covariance Type:</th>     <td>nonrobust</td>    <th>                     </th>     <td> </td>   \n</tr>\n</table>\n<table class=\"simpletable\">\n<tr>\n             <td></td>               <th>coef</th>     <th>std err</th>      <th>t</th>      <th>P>|t|</th>  <th>[0.025</th>    <th>0.975]</th>  \n</tr>\n<tr>\n  <th>Intercept</th>              <td>    4.0471</td> <td>    0.246</td> <td>   16.443</td> <td> 0.000</td> <td>    3.564</td> <td>    4.530</td>\n</tr>\n<tr>\n  <th>gndr[T.Female]</th>         <td>   -0.9995</td> <td>    0.219</td> <td>   -4.554</td> <td> 0.000</td> <td>   -1.430</td> <td>   -0.569</td>\n</tr>\n<tr>\n  <th>eduyrsn</th>                <td>    0.0023</td> <td>    0.010</td> <td>    0.235</td> <td> 0.815</td> <td>   -0.017</td> <td>    0.022</td>\n</tr>\n<tr>\n  <th>eduyrsn:gndr[T.Female]</th> <td>    0.0298</td> <td>    0.014</td> <td>    2.141</td> <td> 0.032</td> <td>    0.003</td> <td>    0.057</td>\n</tr>\n<tr>\n  <th>incdec</th>                 <td>   -0.0544</td> <td>    0.029</td> <td>   -1.902</td> <td> 0.057</td> <td>   -0.111</td> <td>    0.002</td>\n</tr>\n<tr>\n  <th>age</th>                    <td>   -0.0181</td> <td>    0.004</td> <td>   -4.406</td> <td> 0.000</td> <td>   -0.026</td> <td>   -0.010</td>\n</tr>\n<tr>\n  <th>incdec:age</th>             <td>    0.0015</td> <td>    0.001</td> <td>    2.411</td> <td> 0.016</td> <td>    0.000</td> <td>    0.003</td>\n</tr>\n</table>\n<table class=\"simpletable\">\n<tr>\n  <th>Omnibus:</th>       <td>438.934</td> <th>  Durbin-Watson:     </th> <td>   1.993</td> \n</tr>\n<tr>\n  <th>Prob(Omnibus):</th> <td> 0.000</td>  <th>  Jarque-Bera (JB):  </th> <td> 949.826</td> \n</tr>\n<tr>\n  <th>Skew:</th>          <td>-1.247</td>  <th>  Prob(JB):          </th> <td>5.60e-207</td>\n</tr>\n<tr>\n  <th>Kurtosis:</th>      <td> 5.278</td>  <th>  Cond. No.          </th> <td>3.42e+03</td> \n</tr>\n</table><br/><br/>Notes:<br/>[1] Standard Errors assume that the covariance matrix of the errors is correctly specified.<br/>[2] The condition number is large, 3.42e+03. This might indicate that there are<br/>strong multicollinearity or other numerical problems."
     },
     "metadata": {},
     "execution_count": 26
    }
   ],
   "source": [
    "modelEnds = smf.ols(formula='log_alcwkndn ~ eduyrsn * gndr + incdec * age', data=Germany).fit()\n",
    "modelEnds.summary()"
   ]
  },
  {
   "source": [
    "# Task 3"
   ],
   "cell_type": "markdown",
   "metadata": {}
  }
 ]
}