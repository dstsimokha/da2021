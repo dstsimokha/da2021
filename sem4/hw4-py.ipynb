{
 "cells": [
  {
   "cell_type": "markdown",
   "id": "approved-final",
   "metadata": {},
   "source": [
    "[source](https://www.datasklr.com/logistic-regression/multinomial-logistic-regression)"
   ]
  },
  {
   "cell_type": "code",
   "execution_count": 1,
   "id": "driven-kitty",
   "metadata": {},
   "outputs": [],
   "source": [
    "import rpy2.rinterface\n",
    "import rpy2.robjects as robjects\n",
    "\n",
    "import numpy as np\n",
    "import pandas as pd\n",
    "import matplotlib.pyplot as plt\n",
    "import seaborn as sns\n",
    "\n",
    "import statsmodels.api as sm\n",
    "import statsmodels.formula.api as smf\n",
    "import statsmodels.graphics.regressionplots as smgr\n",
    "from sklearn.metrics import confusion_matrix, accuracy_score\n",
    "\n",
    "plt.rcParams['figure.figsize'] = [12, 8]\n",
    "plt.rcParams['figure.dpi'] = 75\n",
    "plt.rcParams['font.size'] = 12\n",
    "sns.set_theme(style=\"whitegrid\")\n",
    "sns.set_theme(color_codes=True)\n",
    "sns.set_context(\"poster\")\n",
    "%load_ext rpy2.ipython"
   ]
  },
  {
   "cell_type": "code",
   "execution_count": 2,
   "id": "stunning-softball",
   "metadata": {},
   "outputs": [],
   "source": [
    "%%R -o df\n",
    "load('sem4.RData')\n",
    "df = uk"
   ]
  },
  {
   "cell_type": "code",
   "execution_count": 3,
   "id": "fitting-darwin",
   "metadata": {},
   "outputs": [
    {
     "name": "stdout",
     "output_type": "stream",
     "text": [
      "                  name\n",
      "code                  \n",
      "0         Conservative\n",
      "1               Labour\n",
      "2     Liberal Democrat\n",
      "3                Other\n"
     ]
    }
   ],
   "source": [
    "# Selecting only usable data and removing NA's\n",
    "df = df[['prvote', 'age', 'sex', 'income1', 'edu']].dropna()\n",
    "# Recoding category to numeric\n",
    "df['prvote_code'] = df.prvote.cat.codes\n",
    "print(pd.DataFrame({'code': [0, 1, 2, 3], 'name': df.prvote.cat.categories}).set_index('code'))"
   ]
  },
  {
   "cell_type": "code",
   "execution_count": 4,
   "id": "alien-diversity",
   "metadata": {},
   "outputs": [
    {
     "name": "stdout",
     "output_type": "stream",
     "text": [
      "<class 'pandas.core.frame.DataFrame'>\n",
      "Index: 1265 entries, 3 to 2422\n",
      "Data columns (total 6 columns):\n",
      " #   Column       Non-Null Count  Dtype   \n",
      "---  ------       --------------  -----   \n",
      " 0   prvote       1265 non-null   category\n",
      " 1   age          1265 non-null   float64 \n",
      " 2   sex          1265 non-null   category\n",
      " 3   income1      1265 non-null   float64 \n",
      " 4   edu          1265 non-null   float64 \n",
      " 5   prvote_code  1265 non-null   int8    \n",
      "dtypes: category(2), float64(3), int8(1)\n",
      "memory usage: 43.6+ KB\n"
     ]
    }
   ],
   "source": [
    "df.info()"
   ]
  },
  {
   "cell_type": "markdown",
   "id": "fabulous-solution",
   "metadata": {},
   "source": [
    "# Predict which party was supported by age, gender, income group, and education"
   ]
  },
  {
   "cell_type": "code",
   "execution_count": 5,
   "id": "western-beijing",
   "metadata": {},
   "outputs": [
    {
     "name": "stdout",
     "output_type": "stream",
     "text": [
      "Optimization terminated successfully.\n",
      "         Current function value: 1.269979\n",
      "         Iterations 6\n",
      "                          MNLogit Regression Results                          \n",
      "==============================================================================\n",
      "Dep. Variable:            prvote_code   No. Observations:                 1265\n",
      "Model:                        MNLogit   Df Residuals:                     1250\n",
      "Method:                           MLE   Df Model:                           12\n",
      "Date:                 Вс, 07 фев 2021   Pseudo R-squ.:                 0.02096\n",
      "Time:                        18:43:08   Log-Likelihood:                -1606.5\n",
      "converged:                       True   LL-Null:                       -1640.9\n",
      "Covariance Type:            nonrobust   LLR p-value:                 5.427e-10\n",
      "=================================================================================\n",
      "prvote_code=1       coef    std err          z      P>|z|      [0.025      0.975]\n",
      "---------------------------------------------------------------------------------\n",
      "Intercept         1.7062      0.468      3.645      0.000       0.789       2.624\n",
      "sex[T.Female]    -0.0715      0.142     -0.505      0.614      -0.349       0.206\n",
      "age              -0.0185      0.005     -3.900      0.000      -0.028      -0.009\n",
      "income1          -0.1619      0.027     -5.896      0.000      -0.216      -0.108\n",
      "edu               0.0041      0.021      0.202      0.840      -0.036       0.044\n",
      "---------------------------------------------------------------------------------\n",
      "prvote_code=2       coef    std err          z      P>|z|      [0.025      0.975]\n",
      "---------------------------------------------------------------------------------\n",
      "Intercept         0.5013      0.498      1.007      0.314      -0.474       1.477\n",
      "sex[T.Female]     0.0239      0.154      0.156      0.876      -0.277       0.325\n",
      "age              -0.0181      0.005     -3.544      0.000      -0.028      -0.008\n",
      "income1          -0.1000      0.029     -3.411      0.001      -0.158      -0.043\n",
      "edu               0.0424      0.021      1.985      0.047       0.001       0.084\n",
      "---------------------------------------------------------------------------------\n",
      "prvote_code=3       coef    std err          z      P>|z|      [0.025      0.975]\n",
      "---------------------------------------------------------------------------------\n",
      "Intercept         1.3495      0.673      2.004      0.045       0.030       2.669\n",
      "sex[T.Female]    -0.3555      0.208     -1.711      0.087      -0.763       0.052\n",
      "age              -0.0231      0.007     -3.409      0.001      -0.036      -0.010\n",
      "income1          -0.2040      0.041     -5.034      0.000      -0.283      -0.125\n",
      "edu              -0.0134      0.031     -0.427      0.669      -0.075       0.048\n",
      "=================================================================================\n"
     ]
    }
   ],
   "source": [
    "model = smf.mnlogit(formula='prvote_code ~ age + sex + income1 + edu', data=df).fit()\n",
    "print(model.summary())"
   ]
  },
  {
   "cell_type": "markdown",
   "id": "scientific-office",
   "metadata": {},
   "source": [
    "# Interpret coefficients"
   ]
  },
  {
   "cell_type": "code",
   "execution_count": 6,
   "id": "expressed-wesley",
   "metadata": {},
   "outputs": [
    {
     "name": "stdout",
     "output_type": "stream",
     "text": [
      "                   0      1      2\n",
      "Intercept       True  False   True\n",
      "sex[T.Female]  False  False  False\n",
      "age             True   True   True\n",
      "income1         True   True   True\n",
      "edu            False   True  False\n"
     ]
    }
   ],
   "source": [
    "print(model.pvalues < 0.05)"
   ]
  },
  {
   "cell_type": "markdown",
   "id": "distinguished-motor",
   "metadata": {},
   "source": [
    "### P-values\n",
    "Model is only 'partly significant' in terms of its effects significance:\n",
    "- effect of **gender** is not significant in any submodel\n",
    "- effects of **age** and **income level** are significant in each submodel\n",
    "- in the second submodel even **intercept** is not significant\n",
    "- and effect of **education** is significant only for the second submodel"
   ]
  },
  {
   "cell_type": "code",
   "execution_count": 7,
   "id": "little-level",
   "metadata": {},
   "outputs": [
    {
     "name": "stdout",
     "output_type": "stream",
     "text": [
      "               Labour  Liberal Democrat  Other\n",
      "Intercept       5.508             1.651  3.855\n",
      "sex[T.Female]   0.931             1.024  0.701\n",
      "age             0.982             0.982  0.977\n",
      "income1         0.851             0.905  0.815\n",
      "edu             1.004             1.043  0.987\n"
     ]
    }
   ],
   "source": [
    "# Odds Ratio\n",
    "odds = round(np.exp(model.params), 3)\n",
    "odds.columns = df.prvote.cat.categories[1:]\n",
    "print(odds)"
   ]
  },
  {
   "cell_type": "markdown",
   "id": "blank-ivory",
   "metadata": {},
   "source": [
    "### Odds ratio\n",
    "*'Conservative' as reference group* - read each statement as: \"__party__ by __value__ *comparing with 'Conservative'* \"\n",
    "\n",
    "- sex=Female: changing **sex** `from Male to Female` *lol* is not significant in any submodel\n",
    "- age: increase in one unit of age multiplies odds of voting for:\n",
    "    - 'Labour' by 0.982\n",
    "    - 'Liberal Democrat' by 0.982\n",
    "    - 'Other' by 0.977\n",
    "\n",
    "`Age` have exactly the same effect in each submodel.\n",
    "\n",
    "- income1: increase in one unit (*level*) of **income** levels multiplies odds of voting for:\n",
    "    - 'Labour' by 0.851\n",
    "    - 'Liberal Democrat' by 0.905\n",
    "    - 'Other' by 0.815\n",
    "- edu: increase in one unit of **years of education** multiplies odds of voting for:\n",
    "    - *not significant*\n",
    "    - 'Liberal Democrat' by 1.043\n",
    "    - *not significant*"
   ]
  },
  {
   "cell_type": "code",
   "execution_count": 8,
   "id": "acceptable-manufacturer",
   "metadata": {},
   "outputs": [
    {
     "name": "stdout",
     "output_type": "stream",
     "text": [
      "=================================================================================\n",
      "prvote_code=0      dy/dx    std err          z      P>|z|      [0.025      0.975]\n",
      "---------------------------------------------------------------------------------\n",
      "sex[T.Female]     0.0171      0.027      0.642      0.521      -0.035       0.069\n",
      "age               0.0042      0.001      4.770      0.000       0.002       0.006\n",
      "income1           0.0321      0.005      6.545      0.000       0.022       0.042\n",
      "edu              -0.0035      0.004     -0.910      0.363      -0.011       0.004\n",
      "---------------------------------------------------------------------------------\n",
      "prvote_code=1      dy/dx    std err          z      P>|z|      [0.025      0.975]\n",
      "---------------------------------------------------------------------------------\n",
      "sex[T.Female]    -0.0054      0.026     -0.208      0.835      -0.057       0.046\n",
      "age              -0.0019      0.001     -2.206      0.027      -0.003      -0.000\n",
      "income1          -0.0205      0.005     -4.234      0.000      -0.030      -0.011\n",
      "edu              -0.0018      0.004     -0.465      0.642      -0.009       0.006\n",
      "---------------------------------------------------------------------------------\n",
      "prvote_code=2      dy/dx    std err          z      P>|z|      [0.025      0.975]\n",
      "---------------------------------------------------------------------------------\n",
      "sex[T.Female]     0.0173      0.024      0.724      0.469      -0.030       0.064\n",
      "age              -0.0013      0.001     -1.753      0.080      -0.003       0.000\n",
      "income1          -0.0014      0.004     -0.310      0.757      -0.010       0.007\n",
      "edu               0.0075      0.003      2.256      0.024       0.001       0.014\n",
      "---------------------------------------------------------------------------------\n",
      "prvote_code=3      dy/dx    std err          z      P>|z|      [0.025      0.975]\n",
      "---------------------------------------------------------------------------------\n",
      "sex[T.Female]    -0.0290      0.017     -1.736      0.083      -0.062       0.004\n",
      "age              -0.0010      0.001     -1.894      0.058      -0.002     3.5e-05\n",
      "income1          -0.0102      0.003     -3.200      0.001      -0.017      -0.004\n",
      "edu              -0.0022      0.003     -0.883      0.377      -0.007       0.003\n",
      "=================================================================================\n"
     ]
    }
   ],
   "source": [
    "# Average Marginal Effects\n",
    "print(model.get_margeff().summary().tables[1])"
   ]
  },
  {
   "cell_type": "markdown",
   "id": "alike-spray",
   "metadata": {},
   "source": [
    "### Average Marginal Effects\n",
    "Well, it's a lot of to describe:\n",
    "- sex=Female: still not significant in any submodel\n",
    "- age: increase in one unit of age **decreases** the probability of voting for:\n",
    "    - 'Labour' by 0.0019%\n",
    "    - 'Liberal Democrat' by 0013%\n",
    "    - 'Other' by 0.0010%\n",
    "\n",
    "`Age` have nearly the same effect in each submodel.\n",
    "\n",
    "- income1: increase in one unit (*level*) of **income** levels **decreases** the probability of voting for:\n",
    "    - 'Labour' by 0.0205%\n",
    "    - 'Liberal Democrat' by 0.0014%\n",
    "    - 'Other' by 0.0102%\n",
    "- edu: increase in one unit of **years of education** **increases** th probability of voting for:\n",
    "    - *not significant*\n",
    "    - 'Liberal Democrat' by 0.0075%\n",
    "    - *not significant*\n",
    "\n",
    "All of those are really small effect sizes."
   ]
  },
  {
   "cell_type": "markdown",
   "id": "agricultural-ireland",
   "metadata": {},
   "source": [
    "# Look at the model fit"
   ]
  },
  {
   "cell_type": "code",
   "execution_count": 9,
   "id": "progressive-particular",
   "metadata": {},
   "outputs": [
    {
     "name": "stdout",
     "output_type": "stream",
     "text": [
      "Pseudo R^2: 0.02096\n"
     ]
    }
   ],
   "source": [
    "# Pseudo R^2\n",
    "print('Pseudo R^2:', model.summary().tables[0][3][3])"
   ]
  },
  {
   "cell_type": "markdown",
   "id": "surprising-chinese",
   "metadata": {},
   "source": [
    "Pseudo R-squared is *way lower* than 0.1 which is totally not enough for considering model as good."
   ]
  },
  {
   "cell_type": "code",
   "execution_count": 10,
   "id": "robust-reynolds",
   "metadata": {},
   "outputs": [
    {
     "name": "stdout",
     "output_type": "stream",
     "text": [
      "Percentage of Correct Predictions (PCP): 40.8%\n",
      "Accuracy (aka PCP): 40.8%\n"
     ]
    }
   ],
   "source": [
    "# PCP\n",
    "predicted = [np.where(i == i.max())[0][0] for i in model.predict()]\n",
    "print('Percentage of Correct Predictions (PCP): ', (round(sum(predicted == df.prvote_code)/len(df)*100, 1)), '%', sep='')\n",
    "# or\n",
    "print('Accuracy (aka PCP): ', round(accuracy_score(df['prvote_code'], predicted), 3)*100, '%', sep='')"
   ]
  },
  {
   "cell_type": "markdown",
   "id": "small-fireplace",
   "metadata": {},
   "source": [
    "Meh, could be better - but still OK, because here are not binary prediction (maybe for such task will be more suitable to use PCA or CFA or some clusterization techniques)"
   ]
  },
  {
   "cell_type": "code",
   "execution_count": 11,
   "id": "static-identity",
   "metadata": {},
   "outputs": [
    {
     "data": {
      "text/html": [
       "<div>\n",
       "<style scoped>\n",
       "    .dataframe tbody tr th:only-of-type {\n",
       "        vertical-align: middle;\n",
       "    }\n",
       "\n",
       "    .dataframe tbody tr th {\n",
       "        vertical-align: top;\n",
       "    }\n",
       "\n",
       "    .dataframe thead th {\n",
       "        text-align: right;\n",
       "    }\n",
       "</style>\n",
       "<table border=\"1\" class=\"dataframe\">\n",
       "  <thead>\n",
       "    <tr style=\"text-align: right;\">\n",
       "      <th></th>\n",
       "      <th>Conservative_pred</th>\n",
       "      <th>Labour_pred</th>\n",
       "      <th>Liberal Democrat_pred</th>\n",
       "      <th>Other_pred</th>\n",
       "    </tr>\n",
       "  </thead>\n",
       "  <tbody>\n",
       "    <tr>\n",
       "      <th>Conservative</th>\n",
       "      <td>328</td>\n",
       "      <td>120</td>\n",
       "      <td>3</td>\n",
       "      <td>0</td>\n",
       "    </tr>\n",
       "    <tr>\n",
       "      <th>Labour</th>\n",
       "      <td>205</td>\n",
       "      <td>182</td>\n",
       "      <td>10</td>\n",
       "      <td>0</td>\n",
       "    </tr>\n",
       "    <tr>\n",
       "      <th>Liberal Democrat</th>\n",
       "      <td>168</td>\n",
       "      <td>120</td>\n",
       "      <td>6</td>\n",
       "      <td>0</td>\n",
       "    </tr>\n",
       "    <tr>\n",
       "      <th>Other</th>\n",
       "      <td>64</td>\n",
       "      <td>58</td>\n",
       "      <td>1</td>\n",
       "      <td>0</td>\n",
       "    </tr>\n",
       "  </tbody>\n",
       "</table>\n",
       "</div>"
      ],
      "text/plain": [
       "                  Conservative_pred  Labour_pred  Liberal Democrat_pred  \\\n",
       "Conservative                    328          120                      3   \n",
       "Labour                          205          182                     10   \n",
       "Liberal Democrat                168          120                      6   \n",
       "Other                            64           58                      1   \n",
       "\n",
       "                  Other_pred  \n",
       "Conservative               0  \n",
       "Labour                     0  \n",
       "Liberal Democrat           0  \n",
       "Other                      0  "
      ]
     },
     "execution_count": 11,
     "metadata": {},
     "output_type": "execute_result"
    }
   ],
   "source": [
    "# Real x Predicted\n",
    "pd.DataFrame(np.array(confusion_matrix(df['prvote_code'], predicted)), \n",
    "             index=df.prvote.cat.categories, columns=df.prvote.cat.categories+'_pred')"
   ]
  },
  {
   "cell_type": "markdown",
   "id": "contrary-sellers",
   "metadata": {},
   "source": [
    "Well, **others** is really underpredicted - zero at interception.\n",
    "\n",
    "Overall, model just loves conservatives and tries to set any observation to than group."
   ]
  },
  {
   "cell_type": "markdown",
   "id": "imported-thinking",
   "metadata": {},
   "source": [
    "# Make a plot to illustrate the relationship between education and party preferences"
   ]
  },
  {
   "cell_type": "code",
   "execution_count": 12,
   "id": "instructional-bennett",
   "metadata": {},
   "outputs": [
    {
     "data": {
      "image/png": "[encoded data removed]",
      "text/plain": [
       "<Figure size 900x600 with 1 Axes>"
      ]
     },
     "metadata": {},
     "output_type": "display_data"
    }
   ],
   "source": [
    "sm.graphics.plot_partregress(endog='prvote_code', exog_i='edu', exog_others=['age', 'sex', 'income1'], data=df, obs_labels=False);"
   ]
  },
  {
   "cell_type": "markdown",
   "id": "entire-belle",
   "metadata": {},
   "source": [
    "As already known from metrics **years of education** slightly increases probability to vote for 'Liberal Democrats' in comparisong of voting for 'Conservatives'"
   ]
  },
  {
   "cell_type": "markdown",
   "id": "terminal-twist",
   "metadata": {},
   "source": [
    "# Consider theoretical explanations of the results"
   ]
  },
  {
   "cell_type": "markdown",
   "id": "blank-diving",
   "metadata": {},
   "source": [
    "Great, but how I'm going to do it when I don't have any theory, RQ's or hypotheses?\n",
    "\n",
    "OK, firstly - people became more conservative with years of age, but became more liberal with years of education. Such results is kinda obvious - elderly people are more conservative, educated ones - more liberal.  \n",
    "Secondly, people with more income tends to be more conservative - I suppose here will be great to look at interaction of income and age in further elaboration of the model.  \n",
    "Finally - multinomial logistic regression is not the best choice for such data and better to use some clusterization techniques (although *logistic regression is clusterization*)"
   ]
  }
 ],
 "metadata": {
  "kernelspec": {
   "display_name": "Python 3",
   "language": "python",
   "name": "python3"
  },
  "language_info": {
   "codemirror_mode": {
    "name": "ipython",
    "version": 3
   },
   "file_extension": ".py",
   "mimetype": "text/x-python",
   "name": "python",
   "nbconvert_exporter": "python",
   "pygments_lexer": "ipython3",
   "version": "3.8.6"
  }
 },
 "nbformat": 4,
 "nbformat_minor": 5
}
